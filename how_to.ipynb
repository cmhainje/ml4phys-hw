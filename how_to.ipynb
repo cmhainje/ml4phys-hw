{
 "cells": [
  {
   "cell_type": "markdown",
   "id": "549d8c57-73ef-480d-b9cc-ecfe4ca432fa",
   "metadata": {},
   "source": [
    "# how to use my model"
   ]
  },
  {
   "cell_type": "markdown",
   "id": "de4c0cdc-a1bd-4b56-838f-b462055c9607",
   "metadata": {},
   "source": [
    "Download the model weights from GitHub:"
   ]
  },
  {
   "cell_type": "code",
   "execution_count": 1,
   "id": "8c8a4c51-0a46-4e67-9e1b-c76f3880a540",
   "metadata": {},
   "outputs": [
    {
     "name": "stdout",
     "output_type": "stream",
     "text": [
      "  % Total    % Received % Xferd  Average Speed   Time    Time     Time  Current\n",
      "                                 Dload  Upload   Total   Spent    Left  Speed\n",
      "  0     0    0     0    0     0      0      0 --:--:-- --:--:-- --:--:--     0\n",
      "100  137k  100  137k    0     0  1514k      0 --:--:-- --:--:-- --:--:-- 1514k\n"
     ]
    }
   ],
   "source": [
    "!curl -OL https://github.com/cmhainje/ml4phys-hw/raw/main/connor_net.pt"
   ]
  },
  {
   "cell_type": "markdown",
   "id": "4ab18c67-5786-42f9-99d1-314e6dec0c2c",
   "metadata": {},
   "source": [
    "Load the model by first making the network, and then loading the `state_dict` from the `.pt` file."
   ]
  },
  {
   "cell_type": "code",
   "execution_count": 2,
   "id": "72a67f65-4772-4e14-bf43-4990d15ebe59",
   "metadata": {},
   "outputs": [
    {
     "data": {
      "text/plain": [
       "<All keys matched successfully>"
      ]
     },
     "execution_count": 2,
     "metadata": {},
     "output_type": "execute_result"
    }
   ],
   "source": [
    "import torch\n",
    "import torch.nn as nn\n",
    "\n",
    "# Use a GPU if you have one!\n",
    "if torch.cuda.is_available():\n",
    "    device = torch.device(\"cuda\")\n",
    "elif torch.backends.mps.is_available():\n",
    "    device = torch.device(\"mps\")  # use Metal if on M-series MacBook\n",
    "else:\n",
    "    device = torch.device(\"cpu\")\n",
    "    \n",
    "# Model definition:\n",
    "kw = dict(kernel_size=3, padding='same', padding_mode='circular')\n",
    "net = nn.Sequential(\n",
    "    nn.Conv1d(1, 4, **kw),\n",
    "    nn.ReLU(),\n",
    "    nn.Conv1d(4, 4, **kw),\n",
    "    nn.ReLU(),\n",
    "    nn.Conv1d(4, 4, **kw),\n",
    "    nn.ReLU(),\n",
    "    nn.Conv1d(4, 4, **kw),\n",
    "    nn.ReLU(),\n",
    "    nn.Flatten(),\n",
    "    nn.Linear(4 * 8575, 1)\n",
    ").to(device)\n",
    "state_dict = torch.load('connor_net.pt', map_location=device)\n",
    "net.load_state_dict(state_dict)"
   ]
  },
  {
   "cell_type": "markdown",
   "id": "981da71f-960f-4cb9-bd84-81208be75180",
   "metadata": {},
   "source": [
    "Now that it's loaded, here's how to use it on data.\n",
    "\n",
    "You **must** call `.unsqueeze(1)` on the input so that it has the right shape for the model (the model expects shape `(N, 1, 8575)`).\n",
    "\n",
    "the model then returns a tensor of shape `(N, 1)`, so you can call `.squeeze()` to make it shape `(N,)`."
   ]
  },
  {
   "cell_type": "code",
   "execution_count": 3,
   "id": "6725656a-0f35-40ce-86b0-1ad53f1d9e3a",
   "metadata": {},
   "outputs": [
    {
     "name": "stdout",
     "output_type": "stream",
     "text": [
      "Test data shape:  torch.Size([512, 8575])\n",
      "Net output shape: torch.Size([512, 1])\n",
      "After squeezing:  torch.Size([512])\n"
     ]
    }
   ],
   "source": [
    "import numpy as np\n",
    "X_te = torch.tensor(np.load('hw3_data/test_features.npy')).to(torch.float32).to(device)\n",
    "print('Test data shape: ', X_te.shape)\n",
    "\n",
    "out = net(X_te.unsqueeze(1))\n",
    "print('Net output shape:', out.shape)\n",
    "out = out.squeeze()\n",
    "print('After squeezing: ', out.shape)"
   ]
  },
  {
   "cell_type": "code",
   "execution_count": null,
   "id": "96805d8f-8ea2-412b-befa-d43f26b2e8cf",
   "metadata": {},
   "outputs": [],
   "source": []
  }
 ],
 "metadata": {
  "kernelspec": {
   "display_name": "data-science",
   "language": "python",
   "name": "data-science"
  },
  "language_info": {
   "codemirror_mode": {
    "name": "ipython",
    "version": 3
   },
   "file_extension": ".py",
   "mimetype": "text/x-python",
   "name": "python",
   "nbconvert_exporter": "python",
   "pygments_lexer": "ipython3",
   "version": "3.10.4"
  }
 },
 "nbformat": 4,
 "nbformat_minor": 5
}
